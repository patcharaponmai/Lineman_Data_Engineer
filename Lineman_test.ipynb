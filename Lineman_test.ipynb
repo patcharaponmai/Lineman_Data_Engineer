{
  "nbformat": 4,
  "nbformat_minor": 0,
  "metadata": {
    "colab": {
      "provenance": [],
      "authorship_tag": "ABX9TyN9lwsbUh1FtxjeJbFdWLZ/",
      "include_colab_link": true
    },
    "kernelspec": {
      "name": "python3",
      "display_name": "Python 3"
    },
    "language_info": {
      "name": "python"
    }
  },
  "cells": [
    {
      "cell_type": "markdown",
      "metadata": {
        "id": "view-in-github",
        "colab_type": "text"
      },
      "source": [
        "<a href=\"https://colab.research.google.com/github/patcharaponmai/Lineman_test/blob/main/Lineman_test.ipynb\" target=\"_parent\"><img src=\"https://colab.research.google.com/assets/colab-badge.svg\" alt=\"Open In Colab\"/></a>"
      ]
    },
    {
      "cell_type": "markdown",
      "source": [
        "# Task 1"
      ],
      "metadata": {
        "id": "EGxfRGpKlT_h"
      }
    },
    {
      "cell_type": "code",
      "source": [
        "# Call the pandas module to read source file\n",
        "\n",
        "import sys\n",
        "import pandas as pd"
      ],
      "metadata": {
        "id": "nEW7IVaLwdpc"
      },
      "execution_count": null,
      "outputs": []
    },
    {
      "cell_type": "code",
      "source": [
        "# Set up a variable called file_path to specify the location of the source file, so if the file location changes, you can simply modify this variable.\n",
        "\n",
        "order_file='/content/order_detail.csv'\n",
        "restaurant_file='/content/restaurant_detail.csv'\n",
        "\n",
        "order_df = pd.read_csv(order_file, header=0)\n",
        "restaurant_df = pd.read_csv(restaurant_file, header=0)"
      ],
      "metadata": {
        "id": "OccS9Rl0zynZ"
      },
      "execution_count": null,
      "outputs": []
    },
    {
      "cell_type": "code",
      "source": [
        "order_df.head()"
      ],
      "metadata": {
        "colab": {
          "base_uri": "https://localhost:8080/",
          "height": 206
        },
        "id": "s98moILD0NJM",
        "outputId": "9ffc76ec-38fb-448c-e832-ff0976bd0fbb"
      },
      "execution_count": null,
      "outputs": [
        {
          "output_type": "execute_result",
          "data": {
            "text/plain": [
              "  order_created_timestamp     status  price  discount  \\\n",
              "0     2019-06-08 17:31:57  COMPLETED    113      55.0   \n",
              "1     2019-06-17 22:13:57  COMPLETED    138      80.0   \n",
              "2     2019-06-12 12:58:22  COMPLETED     84      26.0   \n",
              "3     2019-02-08 13:57:41  COMPLETED    185      25.0   \n",
              "4     2019-03-18 20:23:30  COMPLETED    143      25.0   \n",
              "\n",
              "                                     id                             driver_id  \\\n",
              "0  fe3409e8-9b9b-4680-8f8c-862f526f000f  064012bc-fc75-4a97-8993-203c52cab471   \n",
              "1  c7ea583b-12d7-454f-89aa-aabf62358035  06403af7-a69d-4496-9d1a-65a1d7d3fcf4   \n",
              "2  521249d3-e1c9-4d51-85b4-a967de658f60  0640aff3-e08c-47d1-829a-ed9bab234bfe   \n",
              "3  a24db3b2-9a47-405c-8e65-56452cc8f123  0640c49c-f07a-4727-941d-08078d0abe17   \n",
              "4  419380ea-b53c-4f1b-b654-5fc3e66845e9  0640c83e-bc5f-4d09-a95a-671c267da8d4   \n",
              "\n",
              "                                user_id restaurant_id  \n",
              "0  96c1f2fb-1d75-4496-ab01-8264897c0660       R_43296  \n",
              "1  fe2921bb-b3e0-4a3b-b08d-d1b318a4c8a6       R_52641  \n",
              "2  208003e9-b22f-4997-b4dc-b5eccbda5759       R_25788  \n",
              "3  c78e29a9-fc5e-40f0-b07f-edebeb64e285       R_84999  \n",
              "4  aa616477-b559-49c6-a20b-b631cef166b3       R_21547  "
            ],
            "text/html": [
              "\n",
              "  <div id=\"df-ad2d94f1-d1c1-48fd-aadd-d955033137dc\" class=\"colab-df-container\">\n",
              "    <div>\n",
              "<style scoped>\n",
              "    .dataframe tbody tr th:only-of-type {\n",
              "        vertical-align: middle;\n",
              "    }\n",
              "\n",
              "    .dataframe tbody tr th {\n",
              "        vertical-align: top;\n",
              "    }\n",
              "\n",
              "    .dataframe thead th {\n",
              "        text-align: right;\n",
              "    }\n",
              "</style>\n",
              "<table border=\"1\" class=\"dataframe\">\n",
              "  <thead>\n",
              "    <tr style=\"text-align: right;\">\n",
              "      <th></th>\n",
              "      <th>order_created_timestamp</th>\n",
              "      <th>status</th>\n",
              "      <th>price</th>\n",
              "      <th>discount</th>\n",
              "      <th>id</th>\n",
              "      <th>driver_id</th>\n",
              "      <th>user_id</th>\n",
              "      <th>restaurant_id</th>\n",
              "    </tr>\n",
              "  </thead>\n",
              "  <tbody>\n",
              "    <tr>\n",
              "      <th>0</th>\n",
              "      <td>2019-06-08 17:31:57</td>\n",
              "      <td>COMPLETED</td>\n",
              "      <td>113</td>\n",
              "      <td>55.0</td>\n",
              "      <td>fe3409e8-9b9b-4680-8f8c-862f526f000f</td>\n",
              "      <td>064012bc-fc75-4a97-8993-203c52cab471</td>\n",
              "      <td>96c1f2fb-1d75-4496-ab01-8264897c0660</td>\n",
              "      <td>R_43296</td>\n",
              "    </tr>\n",
              "    <tr>\n",
              "      <th>1</th>\n",
              "      <td>2019-06-17 22:13:57</td>\n",
              "      <td>COMPLETED</td>\n",
              "      <td>138</td>\n",
              "      <td>80.0</td>\n",
              "      <td>c7ea583b-12d7-454f-89aa-aabf62358035</td>\n",
              "      <td>06403af7-a69d-4496-9d1a-65a1d7d3fcf4</td>\n",
              "      <td>fe2921bb-b3e0-4a3b-b08d-d1b318a4c8a6</td>\n",
              "      <td>R_52641</td>\n",
              "    </tr>\n",
              "    <tr>\n",
              "      <th>2</th>\n",
              "      <td>2019-06-12 12:58:22</td>\n",
              "      <td>COMPLETED</td>\n",
              "      <td>84</td>\n",
              "      <td>26.0</td>\n",
              "      <td>521249d3-e1c9-4d51-85b4-a967de658f60</td>\n",
              "      <td>0640aff3-e08c-47d1-829a-ed9bab234bfe</td>\n",
              "      <td>208003e9-b22f-4997-b4dc-b5eccbda5759</td>\n",
              "      <td>R_25788</td>\n",
              "    </tr>\n",
              "    <tr>\n",
              "      <th>3</th>\n",
              "      <td>2019-02-08 13:57:41</td>\n",
              "      <td>COMPLETED</td>\n",
              "      <td>185</td>\n",
              "      <td>25.0</td>\n",
              "      <td>a24db3b2-9a47-405c-8e65-56452cc8f123</td>\n",
              "      <td>0640c49c-f07a-4727-941d-08078d0abe17</td>\n",
              "      <td>c78e29a9-fc5e-40f0-b07f-edebeb64e285</td>\n",
              "      <td>R_84999</td>\n",
              "    </tr>\n",
              "    <tr>\n",
              "      <th>4</th>\n",
              "      <td>2019-03-18 20:23:30</td>\n",
              "      <td>COMPLETED</td>\n",
              "      <td>143</td>\n",
              "      <td>25.0</td>\n",
              "      <td>419380ea-b53c-4f1b-b654-5fc3e66845e9</td>\n",
              "      <td>0640c83e-bc5f-4d09-a95a-671c267da8d4</td>\n",
              "      <td>aa616477-b559-49c6-a20b-b631cef166b3</td>\n",
              "      <td>R_21547</td>\n",
              "    </tr>\n",
              "  </tbody>\n",
              "</table>\n",
              "</div>\n",
              "    <div class=\"colab-df-buttons\">\n",
              "\n",
              "  <div class=\"colab-df-container\">\n",
              "    <button class=\"colab-df-convert\" onclick=\"convertToInteractive('df-ad2d94f1-d1c1-48fd-aadd-d955033137dc')\"\n",
              "            title=\"Convert this dataframe to an interactive table.\"\n",
              "            style=\"display:none;\">\n",
              "\n",
              "  <svg xmlns=\"http://www.w3.org/2000/svg\" height=\"24px\" viewBox=\"0 -960 960 960\">\n",
              "    <path d=\"M120-120v-720h720v720H120Zm60-500h600v-160H180v160Zm220 220h160v-160H400v160Zm0 220h160v-160H400v160ZM180-400h160v-160H180v160Zm440 0h160v-160H620v160ZM180-180h160v-160H180v160Zm440 0h160v-160H620v160Z\"/>\n",
              "  </svg>\n",
              "    </button>\n",
              "\n",
              "  <style>\n",
              "    .colab-df-container {\n",
              "      display:flex;\n",
              "      gap: 12px;\n",
              "    }\n",
              "\n",
              "    .colab-df-convert {\n",
              "      background-color: #E8F0FE;\n",
              "      border: none;\n",
              "      border-radius: 50%;\n",
              "      cursor: pointer;\n",
              "      display: none;\n",
              "      fill: #1967D2;\n",
              "      height: 32px;\n",
              "      padding: 0 0 0 0;\n",
              "      width: 32px;\n",
              "    }\n",
              "\n",
              "    .colab-df-convert:hover {\n",
              "      background-color: #E2EBFA;\n",
              "      box-shadow: 0px 1px 2px rgba(60, 64, 67, 0.3), 0px 1px 3px 1px rgba(60, 64, 67, 0.15);\n",
              "      fill: #174EA6;\n",
              "    }\n",
              "\n",
              "    .colab-df-buttons div {\n",
              "      margin-bottom: 4px;\n",
              "    }\n",
              "\n",
              "    [theme=dark] .colab-df-convert {\n",
              "      background-color: #3B4455;\n",
              "      fill: #D2E3FC;\n",
              "    }\n",
              "\n",
              "    [theme=dark] .colab-df-convert:hover {\n",
              "      background-color: #434B5C;\n",
              "      box-shadow: 0px 1px 3px 1px rgba(0, 0, 0, 0.15);\n",
              "      filter: drop-shadow(0px 1px 2px rgba(0, 0, 0, 0.3));\n",
              "      fill: #FFFFFF;\n",
              "    }\n",
              "  </style>\n",
              "\n",
              "    <script>\n",
              "      const buttonEl =\n",
              "        document.querySelector('#df-ad2d94f1-d1c1-48fd-aadd-d955033137dc button.colab-df-convert');\n",
              "      buttonEl.style.display =\n",
              "        google.colab.kernel.accessAllowed ? 'block' : 'none';\n",
              "\n",
              "      async function convertToInteractive(key) {\n",
              "        const element = document.querySelector('#df-ad2d94f1-d1c1-48fd-aadd-d955033137dc');\n",
              "        const dataTable =\n",
              "          await google.colab.kernel.invokeFunction('convertToInteractive',\n",
              "                                                    [key], {});\n",
              "        if (!dataTable) return;\n",
              "\n",
              "        const docLinkHtml = 'Like what you see? Visit the ' +\n",
              "          '<a target=\"_blank\" href=https://colab.research.google.com/notebooks/data_table.ipynb>data table notebook</a>'\n",
              "          + ' to learn more about interactive tables.';\n",
              "        element.innerHTML = '';\n",
              "        dataTable['output_type'] = 'display_data';\n",
              "        await google.colab.output.renderOutput(dataTable, element);\n",
              "        const docLink = document.createElement('div');\n",
              "        docLink.innerHTML = docLinkHtml;\n",
              "        element.appendChild(docLink);\n",
              "      }\n",
              "    </script>\n",
              "  </div>\n",
              "\n",
              "\n",
              "<div id=\"df-6ccfb359-6627-43fe-bd3f-a1327cc440bb\">\n",
              "  <button class=\"colab-df-quickchart\" onclick=\"quickchart('df-6ccfb359-6627-43fe-bd3f-a1327cc440bb')\"\n",
              "            title=\"Suggest charts.\"\n",
              "            style=\"display:none;\">\n",
              "\n",
              "<svg xmlns=\"http://www.w3.org/2000/svg\" height=\"24px\"viewBox=\"0 0 24 24\"\n",
              "     width=\"24px\">\n",
              "    <g>\n",
              "        <path d=\"M19 3H5c-1.1 0-2 .9-2 2v14c0 1.1.9 2 2 2h14c1.1 0 2-.9 2-2V5c0-1.1-.9-2-2-2zM9 17H7v-7h2v7zm4 0h-2V7h2v10zm4 0h-2v-4h2v4z\"/>\n",
              "    </g>\n",
              "</svg>\n",
              "  </button>\n",
              "\n",
              "<style>\n",
              "  .colab-df-quickchart {\n",
              "    background-color: #E8F0FE;\n",
              "    border: none;\n",
              "    border-radius: 50%;\n",
              "    cursor: pointer;\n",
              "    display: none;\n",
              "    fill: #1967D2;\n",
              "    height: 32px;\n",
              "    padding: 0 0 0 0;\n",
              "    width: 32px;\n",
              "  }\n",
              "\n",
              "  .colab-df-quickchart:hover {\n",
              "    background-color: #E2EBFA;\n",
              "    box-shadow: 0px 1px 2px rgba(60, 64, 67, 0.3), 0px 1px 3px 1px rgba(60, 64, 67, 0.15);\n",
              "    fill: #174EA6;\n",
              "  }\n",
              "\n",
              "  [theme=dark] .colab-df-quickchart {\n",
              "    background-color: #3B4455;\n",
              "    fill: #D2E3FC;\n",
              "  }\n",
              "\n",
              "  [theme=dark] .colab-df-quickchart:hover {\n",
              "    background-color: #434B5C;\n",
              "    box-shadow: 0px 1px 3px 1px rgba(0, 0, 0, 0.15);\n",
              "    filter: drop-shadow(0px 1px 2px rgba(0, 0, 0, 0.3));\n",
              "    fill: #FFFFFF;\n",
              "  }\n",
              "</style>\n",
              "\n",
              "  <script>\n",
              "    async function quickchart(key) {\n",
              "      const charts = await google.colab.kernel.invokeFunction(\n",
              "          'suggestCharts', [key], {});\n",
              "    }\n",
              "    (() => {\n",
              "      let quickchartButtonEl =\n",
              "        document.querySelector('#df-6ccfb359-6627-43fe-bd3f-a1327cc440bb button');\n",
              "      quickchartButtonEl.style.display =\n",
              "        google.colab.kernel.accessAllowed ? 'block' : 'none';\n",
              "    })();\n",
              "  </script>\n",
              "</div>\n",
              "    </div>\n",
              "  </div>\n"
            ]
          },
          "metadata": {},
          "execution_count": 3
        }
      ]
    },
    {
      "cell_type": "code",
      "source": [
        "restaurant_df.head()"
      ],
      "metadata": {
        "colab": {
          "base_uri": "https://localhost:8080/",
          "height": 206
        },
        "id": "48LfzPy50juZ",
        "outputId": "642674b1-a496-45b3-9455-deea2dc867e3"
      },
      "execution_count": null,
      "outputs": [
        {
          "output_type": "execute_result",
          "data": {
            "text/plain": [
              "        id restaurant_name   category  esimated_cooking_time   latitude  \\\n",
              "0  R_99988    Restaurant A  BREAKFAST                   69.0  13.597060   \n",
              "1  R_99983    Restaurant B  BREAKFAST                   43.0  13.746108   \n",
              "2  R_99976    Restaurant C  BREAKFAST                   70.0  13.995003   \n",
              "3  R_99970    Restaurant D  BREAKFAST                   70.0  14.040923   \n",
              "4  R_99968    Restaurant E  BREAKFAST                   20.0  13.710985   \n",
              "\n",
              "    longitude  \n",
              "0  100.745401  \n",
              "1  100.529304  \n",
              "2  100.654010  \n",
              "3  100.609767  \n",
              "4  100.409307  "
            ],
            "text/html": [
              "\n",
              "  <div id=\"df-2f0cb87e-5bba-41cd-adc1-42064fe87515\" class=\"colab-df-container\">\n",
              "    <div>\n",
              "<style scoped>\n",
              "    .dataframe tbody tr th:only-of-type {\n",
              "        vertical-align: middle;\n",
              "    }\n",
              "\n",
              "    .dataframe tbody tr th {\n",
              "        vertical-align: top;\n",
              "    }\n",
              "\n",
              "    .dataframe thead th {\n",
              "        text-align: right;\n",
              "    }\n",
              "</style>\n",
              "<table border=\"1\" class=\"dataframe\">\n",
              "  <thead>\n",
              "    <tr style=\"text-align: right;\">\n",
              "      <th></th>\n",
              "      <th>id</th>\n",
              "      <th>restaurant_name</th>\n",
              "      <th>category</th>\n",
              "      <th>esimated_cooking_time</th>\n",
              "      <th>latitude</th>\n",
              "      <th>longitude</th>\n",
              "    </tr>\n",
              "  </thead>\n",
              "  <tbody>\n",
              "    <tr>\n",
              "      <th>0</th>\n",
              "      <td>R_99988</td>\n",
              "      <td>Restaurant A</td>\n",
              "      <td>BREAKFAST</td>\n",
              "      <td>69.0</td>\n",
              "      <td>13.597060</td>\n",
              "      <td>100.745401</td>\n",
              "    </tr>\n",
              "    <tr>\n",
              "      <th>1</th>\n",
              "      <td>R_99983</td>\n",
              "      <td>Restaurant B</td>\n",
              "      <td>BREAKFAST</td>\n",
              "      <td>43.0</td>\n",
              "      <td>13.746108</td>\n",
              "      <td>100.529304</td>\n",
              "    </tr>\n",
              "    <tr>\n",
              "      <th>2</th>\n",
              "      <td>R_99976</td>\n",
              "      <td>Restaurant C</td>\n",
              "      <td>BREAKFAST</td>\n",
              "      <td>70.0</td>\n",
              "      <td>13.995003</td>\n",
              "      <td>100.654010</td>\n",
              "    </tr>\n",
              "    <tr>\n",
              "      <th>3</th>\n",
              "      <td>R_99970</td>\n",
              "      <td>Restaurant D</td>\n",
              "      <td>BREAKFAST</td>\n",
              "      <td>70.0</td>\n",
              "      <td>14.040923</td>\n",
              "      <td>100.609767</td>\n",
              "    </tr>\n",
              "    <tr>\n",
              "      <th>4</th>\n",
              "      <td>R_99968</td>\n",
              "      <td>Restaurant E</td>\n",
              "      <td>BREAKFAST</td>\n",
              "      <td>20.0</td>\n",
              "      <td>13.710985</td>\n",
              "      <td>100.409307</td>\n",
              "    </tr>\n",
              "  </tbody>\n",
              "</table>\n",
              "</div>\n",
              "    <div class=\"colab-df-buttons\">\n",
              "\n",
              "  <div class=\"colab-df-container\">\n",
              "    <button class=\"colab-df-convert\" onclick=\"convertToInteractive('df-2f0cb87e-5bba-41cd-adc1-42064fe87515')\"\n",
              "            title=\"Convert this dataframe to an interactive table.\"\n",
              "            style=\"display:none;\">\n",
              "\n",
              "  <svg xmlns=\"http://www.w3.org/2000/svg\" height=\"24px\" viewBox=\"0 -960 960 960\">\n",
              "    <path d=\"M120-120v-720h720v720H120Zm60-500h600v-160H180v160Zm220 220h160v-160H400v160Zm0 220h160v-160H400v160ZM180-400h160v-160H180v160Zm440 0h160v-160H620v160ZM180-180h160v-160H180v160Zm440 0h160v-160H620v160Z\"/>\n",
              "  </svg>\n",
              "    </button>\n",
              "\n",
              "  <style>\n",
              "    .colab-df-container {\n",
              "      display:flex;\n",
              "      gap: 12px;\n",
              "    }\n",
              "\n",
              "    .colab-df-convert {\n",
              "      background-color: #E8F0FE;\n",
              "      border: none;\n",
              "      border-radius: 50%;\n",
              "      cursor: pointer;\n",
              "      display: none;\n",
              "      fill: #1967D2;\n",
              "      height: 32px;\n",
              "      padding: 0 0 0 0;\n",
              "      width: 32px;\n",
              "    }\n",
              "\n",
              "    .colab-df-convert:hover {\n",
              "      background-color: #E2EBFA;\n",
              "      box-shadow: 0px 1px 2px rgba(60, 64, 67, 0.3), 0px 1px 3px 1px rgba(60, 64, 67, 0.15);\n",
              "      fill: #174EA6;\n",
              "    }\n",
              "\n",
              "    .colab-df-buttons div {\n",
              "      margin-bottom: 4px;\n",
              "    }\n",
              "\n",
              "    [theme=dark] .colab-df-convert {\n",
              "      background-color: #3B4455;\n",
              "      fill: #D2E3FC;\n",
              "    }\n",
              "\n",
              "    [theme=dark] .colab-df-convert:hover {\n",
              "      background-color: #434B5C;\n",
              "      box-shadow: 0px 1px 3px 1px rgba(0, 0, 0, 0.15);\n",
              "      filter: drop-shadow(0px 1px 2px rgba(0, 0, 0, 0.3));\n",
              "      fill: #FFFFFF;\n",
              "    }\n",
              "  </style>\n",
              "\n",
              "    <script>\n",
              "      const buttonEl =\n",
              "        document.querySelector('#df-2f0cb87e-5bba-41cd-adc1-42064fe87515 button.colab-df-convert');\n",
              "      buttonEl.style.display =\n",
              "        google.colab.kernel.accessAllowed ? 'block' : 'none';\n",
              "\n",
              "      async function convertToInteractive(key) {\n",
              "        const element = document.querySelector('#df-2f0cb87e-5bba-41cd-adc1-42064fe87515');\n",
              "        const dataTable =\n",
              "          await google.colab.kernel.invokeFunction('convertToInteractive',\n",
              "                                                    [key], {});\n",
              "        if (!dataTable) return;\n",
              "\n",
              "        const docLinkHtml = 'Like what you see? Visit the ' +\n",
              "          '<a target=\"_blank\" href=https://colab.research.google.com/notebooks/data_table.ipynb>data table notebook</a>'\n",
              "          + ' to learn more about interactive tables.';\n",
              "        element.innerHTML = '';\n",
              "        dataTable['output_type'] = 'display_data';\n",
              "        await google.colab.output.renderOutput(dataTable, element);\n",
              "        const docLink = document.createElement('div');\n",
              "        docLink.innerHTML = docLinkHtml;\n",
              "        element.appendChild(docLink);\n",
              "      }\n",
              "    </script>\n",
              "  </div>\n",
              "\n",
              "\n",
              "<div id=\"df-e1f1720e-e71e-487c-9094-dc06bbe9af5e\">\n",
              "  <button class=\"colab-df-quickchart\" onclick=\"quickchart('df-e1f1720e-e71e-487c-9094-dc06bbe9af5e')\"\n",
              "            title=\"Suggest charts.\"\n",
              "            style=\"display:none;\">\n",
              "\n",
              "<svg xmlns=\"http://www.w3.org/2000/svg\" height=\"24px\"viewBox=\"0 0 24 24\"\n",
              "     width=\"24px\">\n",
              "    <g>\n",
              "        <path d=\"M19 3H5c-1.1 0-2 .9-2 2v14c0 1.1.9 2 2 2h14c1.1 0 2-.9 2-2V5c0-1.1-.9-2-2-2zM9 17H7v-7h2v7zm4 0h-2V7h2v10zm4 0h-2v-4h2v4z\"/>\n",
              "    </g>\n",
              "</svg>\n",
              "  </button>\n",
              "\n",
              "<style>\n",
              "  .colab-df-quickchart {\n",
              "    background-color: #E8F0FE;\n",
              "    border: none;\n",
              "    border-radius: 50%;\n",
              "    cursor: pointer;\n",
              "    display: none;\n",
              "    fill: #1967D2;\n",
              "    height: 32px;\n",
              "    padding: 0 0 0 0;\n",
              "    width: 32px;\n",
              "  }\n",
              "\n",
              "  .colab-df-quickchart:hover {\n",
              "    background-color: #E2EBFA;\n",
              "    box-shadow: 0px 1px 2px rgba(60, 64, 67, 0.3), 0px 1px 3px 1px rgba(60, 64, 67, 0.15);\n",
              "    fill: #174EA6;\n",
              "  }\n",
              "\n",
              "  [theme=dark] .colab-df-quickchart {\n",
              "    background-color: #3B4455;\n",
              "    fill: #D2E3FC;\n",
              "  }\n",
              "\n",
              "  [theme=dark] .colab-df-quickchart:hover {\n",
              "    background-color: #434B5C;\n",
              "    box-shadow: 0px 1px 3px 1px rgba(0, 0, 0, 0.15);\n",
              "    filter: drop-shadow(0px 1px 2px rgba(0, 0, 0, 0.3));\n",
              "    fill: #FFFFFF;\n",
              "  }\n",
              "</style>\n",
              "\n",
              "  <script>\n",
              "    async function quickchart(key) {\n",
              "      const charts = await google.colab.kernel.invokeFunction(\n",
              "          'suggestCharts', [key], {});\n",
              "    }\n",
              "    (() => {\n",
              "      let quickchartButtonEl =\n",
              "        document.querySelector('#df-e1f1720e-e71e-487c-9094-dc06bbe9af5e button');\n",
              "      quickchartButtonEl.style.display =\n",
              "        google.colab.kernel.accessAllowed ? 'block' : 'none';\n",
              "    })();\n",
              "  </script>\n",
              "</div>\n",
              "    </div>\n",
              "  </div>\n"
            ]
          },
          "metadata": {},
          "execution_count": 4
        }
      ]
    },
    {
      "cell_type": "code",
      "source": [
        "order_df.info()\n",
        "restaurant_df.info()"
      ],
      "metadata": {
        "colab": {
          "base_uri": "https://localhost:8080/"
        },
        "id": "HaFEA-ir2V7p",
        "outputId": "c1825940-a8cf-4e18-e6cb-ffb59d93a164"
      },
      "execution_count": null,
      "outputs": [
        {
          "output_type": "stream",
          "name": "stdout",
          "text": [
            "<class 'pandas.core.frame.DataFrame'>\n",
            "RangeIndex: 395361 entries, 0 to 395360\n",
            "Data columns (total 8 columns):\n",
            " #   Column                   Non-Null Count   Dtype  \n",
            "---  ------                   --------------   -----  \n",
            " 0   order_created_timestamp  395361 non-null  object \n",
            " 1   status                   395361 non-null  object \n",
            " 2   price                    395361 non-null  int64  \n",
            " 3   discount                 276648 non-null  float64\n",
            " 4   id                       395361 non-null  object \n",
            " 5   driver_id                395361 non-null  object \n",
            " 6   user_id                  395361 non-null  object \n",
            " 7   restaurant_id            395361 non-null  object \n",
            "dtypes: float64(1), int64(1), object(6)\n",
            "memory usage: 24.1+ MB\n",
            "<class 'pandas.core.frame.DataFrame'>\n",
            "RangeIndex: 12623 entries, 0 to 12622\n",
            "Data columns (total 6 columns):\n",
            " #   Column                 Non-Null Count  Dtype  \n",
            "---  ------                 --------------  -----  \n",
            " 0   id                     12623 non-null  object \n",
            " 1   restaurant_name        12623 non-null  object \n",
            " 2   category               12623 non-null  object \n",
            " 3   esimated_cooking_time  12623 non-null  float64\n",
            " 4   latitude               12623 non-null  float64\n",
            " 5   longitude              12623 non-null  float64\n",
            "dtypes: float64(3), object(3)\n",
            "memory usage: 591.8+ KB\n"
          ]
        }
      ]
    },
    {
      "cell_type": "code",
      "source": [
        "order_df.nunique()"
      ],
      "metadata": {
        "colab": {
          "base_uri": "https://localhost:8080/"
        },
        "id": "_yxVeB622VlV",
        "outputId": "515ddf8d-3eca-45ab-c0cb-8aa83cb7525e"
      },
      "execution_count": null,
      "outputs": [
        {
          "output_type": "execute_result",
          "data": {
            "text/plain": [
              "order_created_timestamp    383159\n",
              "status                          2\n",
              "price                         648\n",
              "discount                      126\n",
              "id                         395361\n",
              "driver_id                  391405\n",
              "user_id                    383253\n",
              "restaurant_id               12623\n",
              "dtype: int64"
            ]
          },
          "metadata": {},
          "execution_count": 7
        }
      ]
    },
    {
      "cell_type": "code",
      "source": [
        "restaurant_df.nunique()"
      ],
      "metadata": {
        "colab": {
          "base_uri": "https://localhost:8080/"
        },
        "id": "yvA6_QVY3B8q",
        "outputId": "f678999d-971c-4321-a909-6dc062ff1605"
      },
      "execution_count": null,
      "outputs": [
        {
          "output_type": "execute_result",
          "data": {
            "text/plain": [
              "id                        12623\n",
              "restaurant_name           12623\n",
              "category                     14\n",
              "estimated_cooking_time      141\n",
              "latitude                  12317\n",
              "longitude                 12308\n",
              "dtype: int64"
            ]
          },
          "metadata": {},
          "execution_count": 8
        }
      ]
    },
    {
      "cell_type": "markdown",
      "source": [
        "From the result above, it shows that order_df have a column \"id\" as a primary key by considered the unique record count is equal to totak record count. While restaurant_df have a (\"id\", \"restaurant_name\") as a primary key."
      ],
      "metadata": {
        "id": "6YVfB--O3cFP"
      }
    },
    {
      "cell_type": "markdown",
      "source": [
        "### Check Duplicate value"
      ],
      "metadata": {
        "id": "2fLd0nJu4JVM"
      }
    },
    {
      "cell_type": "code",
      "source": [
        "order_df.duplicated().sum()"
      ],
      "metadata": {
        "colab": {
          "base_uri": "https://localhost:8080/"
        },
        "id": "LoRSFRjK38wg",
        "outputId": "40057fb8-ec15-4a58-d179-c504b05e8fcf"
      },
      "execution_count": null,
      "outputs": [
        {
          "output_type": "execute_result",
          "data": {
            "text/plain": [
              "0"
            ]
          },
          "metadata": {},
          "execution_count": 9
        }
      ]
    },
    {
      "cell_type": "code",
      "source": [
        "restaurant_df.duplicated().sum()"
      ],
      "metadata": {
        "colab": {
          "base_uri": "https://localhost:8080/"
        },
        "id": "CSGYYQQl4B1p",
        "outputId": "f6221e1a-ea86-4859-c8c8-8c63a4d66028"
      },
      "execution_count": null,
      "outputs": [
        {
          "output_type": "execute_result",
          "data": {
            "text/plain": [
              "0"
            ]
          },
          "metadata": {},
          "execution_count": 10
        }
      ]
    },
    {
      "cell_type": "markdown",
      "source": [
        "### Check Null value"
      ],
      "metadata": {
        "id": "_8ML3yuW4v7P"
      }
    },
    {
      "cell_type": "code",
      "source": [
        "order_df.isnull().sum()"
      ],
      "metadata": {
        "colab": {
          "base_uri": "https://localhost:8080/"
        },
        "id": "lyE_oz5D42lz",
        "outputId": "b4e8be05-8751-4652-a93a-cd656dc00601"
      },
      "execution_count": null,
      "outputs": [
        {
          "output_type": "execute_result",
          "data": {
            "text/plain": [
              "order_created_timestamp         0\n",
              "status                          0\n",
              "price                           0\n",
              "discount                   118713\n",
              "id                              0\n",
              "driver_id                       0\n",
              "user_id                         0\n",
              "restaurant_id                   0\n",
              "dtype: int64"
            ]
          },
          "metadata": {},
          "execution_count": 11
        }
      ]
    },
    {
      "cell_type": "code",
      "source": [
        "restaurant_df.isnull().sum()"
      ],
      "metadata": {
        "colab": {
          "base_uri": "https://localhost:8080/"
        },
        "id": "FQdb4lPl45JS",
        "outputId": "e63f7ad1-74c9-438a-ac6f-8900e97bf8e5"
      },
      "execution_count": null,
      "outputs": [
        {
          "output_type": "execute_result",
          "data": {
            "text/plain": [
              "id                        0\n",
              "restaurant_name           0\n",
              "category                  0\n",
              "estimated_cooking_time    0\n",
              "latitude                  0\n",
              "longitude                 0\n",
              "dtype: int64"
            ]
          },
          "metadata": {},
          "execution_count": 12
        }
      ]
    },
    {
      "cell_type": "code",
      "source": [
        "order_df[order_df.isnull().any(axis=1)].head(5)"
      ],
      "metadata": {
        "colab": {
          "base_uri": "https://localhost:8080/",
          "height": 276
        },
        "id": "eZZPJUrD5C63",
        "outputId": "1115362a-32e2-4964-c761-a975776a58e4"
      },
      "execution_count": null,
      "outputs": [
        {
          "output_type": "execute_result",
          "data": {
            "text/plain": [
              "   order_created_timestamp     status  price  discount  \\\n",
              "5      2019-02-22 16:33:14  COMPLETED    193       NaN   \n",
              "8      2019-06-12 01:22:57  COMPLETED    118       NaN   \n",
              "11     2019-05-14 13:14:44  COMPLETED    142       NaN   \n",
              "13     2019-05-30 13:10:56  COMPLETED    120       NaN   \n",
              "14     2019-04-27 22:49:00  COMPLETED    232       NaN   \n",
              "\n",
              "                                      id  \\\n",
              "5   3ae93f7d-3e59-4d79-a15b-0a48a101c461   \n",
              "8   6379d01b-a183-45f4-a589-7ee6b6966a43   \n",
              "11  1d3eee0d-aad0-4fda-8d15-2338d1a63f6c   \n",
              "13  f652707a-ac4f-466e-95a5-558a409216d1   \n",
              "14  d1c054a1-8ee7-45c8-b967-6f0d2b132890   \n",
              "\n",
              "                               driver_id  \\\n",
              "5   0640e337-ca20-43ca-bc1e-88224492abf1   \n",
              "8   0641a085-7abe-4ab0-96a5-81b2a9cc48d1   \n",
              "11  06424b98-6955-49bf-b312-7e84ac136c37   \n",
              "13  064268b5-c573-498d-b9cb-486bd404273e   \n",
              "14  06429574-7a5a-446d-bc76-b4ca4ae23e05   \n",
              "\n",
              "                                 user_id restaurant_id  \n",
              "5   56b50e0d-1620-4529-8511-99b4c85c024e       R_11743  \n",
              "8   bead4483-8cc6-4bc6-bc4b-7f34d0c03ccf       R_34493  \n",
              "11  38ee06d0-5aef-476e-a9ab-1dc674be67d3       R_61391  \n",
              "13  4110e742-6fba-4115-9223-aaf0982d330d       R_49071  \n",
              "14  c41138ff-05f3-4dc3-814c-a1dfe57511df       R_57704  "
            ],
            "text/html": [
              "\n",
              "  <div id=\"df-76692108-a6ba-429f-b89c-0239f4644d7e\" class=\"colab-df-container\">\n",
              "    <div>\n",
              "<style scoped>\n",
              "    .dataframe tbody tr th:only-of-type {\n",
              "        vertical-align: middle;\n",
              "    }\n",
              "\n",
              "    .dataframe tbody tr th {\n",
              "        vertical-align: top;\n",
              "    }\n",
              "\n",
              "    .dataframe thead th {\n",
              "        text-align: right;\n",
              "    }\n",
              "</style>\n",
              "<table border=\"1\" class=\"dataframe\">\n",
              "  <thead>\n",
              "    <tr style=\"text-align: right;\">\n",
              "      <th></th>\n",
              "      <th>order_created_timestamp</th>\n",
              "      <th>status</th>\n",
              "      <th>price</th>\n",
              "      <th>discount</th>\n",
              "      <th>id</th>\n",
              "      <th>driver_id</th>\n",
              "      <th>user_id</th>\n",
              "      <th>restaurant_id</th>\n",
              "    </tr>\n",
              "  </thead>\n",
              "  <tbody>\n",
              "    <tr>\n",
              "      <th>5</th>\n",
              "      <td>2019-02-22 16:33:14</td>\n",
              "      <td>COMPLETED</td>\n",
              "      <td>193</td>\n",
              "      <td>NaN</td>\n",
              "      <td>3ae93f7d-3e59-4d79-a15b-0a48a101c461</td>\n",
              "      <td>0640e337-ca20-43ca-bc1e-88224492abf1</td>\n",
              "      <td>56b50e0d-1620-4529-8511-99b4c85c024e</td>\n",
              "      <td>R_11743</td>\n",
              "    </tr>\n",
              "    <tr>\n",
              "      <th>8</th>\n",
              "      <td>2019-06-12 01:22:57</td>\n",
              "      <td>COMPLETED</td>\n",
              "      <td>118</td>\n",
              "      <td>NaN</td>\n",
              "      <td>6379d01b-a183-45f4-a589-7ee6b6966a43</td>\n",
              "      <td>0641a085-7abe-4ab0-96a5-81b2a9cc48d1</td>\n",
              "      <td>bead4483-8cc6-4bc6-bc4b-7f34d0c03ccf</td>\n",
              "      <td>R_34493</td>\n",
              "    </tr>\n",
              "    <tr>\n",
              "      <th>11</th>\n",
              "      <td>2019-05-14 13:14:44</td>\n",
              "      <td>COMPLETED</td>\n",
              "      <td>142</td>\n",
              "      <td>NaN</td>\n",
              "      <td>1d3eee0d-aad0-4fda-8d15-2338d1a63f6c</td>\n",
              "      <td>06424b98-6955-49bf-b312-7e84ac136c37</td>\n",
              "      <td>38ee06d0-5aef-476e-a9ab-1dc674be67d3</td>\n",
              "      <td>R_61391</td>\n",
              "    </tr>\n",
              "    <tr>\n",
              "      <th>13</th>\n",
              "      <td>2019-05-30 13:10:56</td>\n",
              "      <td>COMPLETED</td>\n",
              "      <td>120</td>\n",
              "      <td>NaN</td>\n",
              "      <td>f652707a-ac4f-466e-95a5-558a409216d1</td>\n",
              "      <td>064268b5-c573-498d-b9cb-486bd404273e</td>\n",
              "      <td>4110e742-6fba-4115-9223-aaf0982d330d</td>\n",
              "      <td>R_49071</td>\n",
              "    </tr>\n",
              "    <tr>\n",
              "      <th>14</th>\n",
              "      <td>2019-04-27 22:49:00</td>\n",
              "      <td>COMPLETED</td>\n",
              "      <td>232</td>\n",
              "      <td>NaN</td>\n",
              "      <td>d1c054a1-8ee7-45c8-b967-6f0d2b132890</td>\n",
              "      <td>06429574-7a5a-446d-bc76-b4ca4ae23e05</td>\n",
              "      <td>c41138ff-05f3-4dc3-814c-a1dfe57511df</td>\n",
              "      <td>R_57704</td>\n",
              "    </tr>\n",
              "  </tbody>\n",
              "</table>\n",
              "</div>\n",
              "    <div class=\"colab-df-buttons\">\n",
              "\n",
              "  <div class=\"colab-df-container\">\n",
              "    <button class=\"colab-df-convert\" onclick=\"convertToInteractive('df-76692108-a6ba-429f-b89c-0239f4644d7e')\"\n",
              "            title=\"Convert this dataframe to an interactive table.\"\n",
              "            style=\"display:none;\">\n",
              "\n",
              "  <svg xmlns=\"http://www.w3.org/2000/svg\" height=\"24px\" viewBox=\"0 -960 960 960\">\n",
              "    <path d=\"M120-120v-720h720v720H120Zm60-500h600v-160H180v160Zm220 220h160v-160H400v160Zm0 220h160v-160H400v160ZM180-400h160v-160H180v160Zm440 0h160v-160H620v160ZM180-180h160v-160H180v160Zm440 0h160v-160H620v160Z\"/>\n",
              "  </svg>\n",
              "    </button>\n",
              "\n",
              "  <style>\n",
              "    .colab-df-container {\n",
              "      display:flex;\n",
              "      gap: 12px;\n",
              "    }\n",
              "\n",
              "    .colab-df-convert {\n",
              "      background-color: #E8F0FE;\n",
              "      border: none;\n",
              "      border-radius: 50%;\n",
              "      cursor: pointer;\n",
              "      display: none;\n",
              "      fill: #1967D2;\n",
              "      height: 32px;\n",
              "      padding: 0 0 0 0;\n",
              "      width: 32px;\n",
              "    }\n",
              "\n",
              "    .colab-df-convert:hover {\n",
              "      background-color: #E2EBFA;\n",
              "      box-shadow: 0px 1px 2px rgba(60, 64, 67, 0.3), 0px 1px 3px 1px rgba(60, 64, 67, 0.15);\n",
              "      fill: #174EA6;\n",
              "    }\n",
              "\n",
              "    .colab-df-buttons div {\n",
              "      margin-bottom: 4px;\n",
              "    }\n",
              "\n",
              "    [theme=dark] .colab-df-convert {\n",
              "      background-color: #3B4455;\n",
              "      fill: #D2E3FC;\n",
              "    }\n",
              "\n",
              "    [theme=dark] .colab-df-convert:hover {\n",
              "      background-color: #434B5C;\n",
              "      box-shadow: 0px 1px 3px 1px rgba(0, 0, 0, 0.15);\n",
              "      filter: drop-shadow(0px 1px 2px rgba(0, 0, 0, 0.3));\n",
              "      fill: #FFFFFF;\n",
              "    }\n",
              "  </style>\n",
              "\n",
              "    <script>\n",
              "      const buttonEl =\n",
              "        document.querySelector('#df-76692108-a6ba-429f-b89c-0239f4644d7e button.colab-df-convert');\n",
              "      buttonEl.style.display =\n",
              "        google.colab.kernel.accessAllowed ? 'block' : 'none';\n",
              "\n",
              "      async function convertToInteractive(key) {\n",
              "        const element = document.querySelector('#df-76692108-a6ba-429f-b89c-0239f4644d7e');\n",
              "        const dataTable =\n",
              "          await google.colab.kernel.invokeFunction('convertToInteractive',\n",
              "                                                    [key], {});\n",
              "        if (!dataTable) return;\n",
              "\n",
              "        const docLinkHtml = 'Like what you see? Visit the ' +\n",
              "          '<a target=\"_blank\" href=https://colab.research.google.com/notebooks/data_table.ipynb>data table notebook</a>'\n",
              "          + ' to learn more about interactive tables.';\n",
              "        element.innerHTML = '';\n",
              "        dataTable['output_type'] = 'display_data';\n",
              "        await google.colab.output.renderOutput(dataTable, element);\n",
              "        const docLink = document.createElement('div');\n",
              "        docLink.innerHTML = docLinkHtml;\n",
              "        element.appendChild(docLink);\n",
              "      }\n",
              "    </script>\n",
              "  </div>\n",
              "\n",
              "\n",
              "<div id=\"df-012d780a-db27-441c-89f0-9cb4b17ce1ad\">\n",
              "  <button class=\"colab-df-quickchart\" onclick=\"quickchart('df-012d780a-db27-441c-89f0-9cb4b17ce1ad')\"\n",
              "            title=\"Suggest charts.\"\n",
              "            style=\"display:none;\">\n",
              "\n",
              "<svg xmlns=\"http://www.w3.org/2000/svg\" height=\"24px\"viewBox=\"0 0 24 24\"\n",
              "     width=\"24px\">\n",
              "    <g>\n",
              "        <path d=\"M19 3H5c-1.1 0-2 .9-2 2v14c0 1.1.9 2 2 2h14c1.1 0 2-.9 2-2V5c0-1.1-.9-2-2-2zM9 17H7v-7h2v7zm4 0h-2V7h2v10zm4 0h-2v-4h2v4z\"/>\n",
              "    </g>\n",
              "</svg>\n",
              "  </button>\n",
              "\n",
              "<style>\n",
              "  .colab-df-quickchart {\n",
              "    background-color: #E8F0FE;\n",
              "    border: none;\n",
              "    border-radius: 50%;\n",
              "    cursor: pointer;\n",
              "    display: none;\n",
              "    fill: #1967D2;\n",
              "    height: 32px;\n",
              "    padding: 0 0 0 0;\n",
              "    width: 32px;\n",
              "  }\n",
              "\n",
              "  .colab-df-quickchart:hover {\n",
              "    background-color: #E2EBFA;\n",
              "    box-shadow: 0px 1px 2px rgba(60, 64, 67, 0.3), 0px 1px 3px 1px rgba(60, 64, 67, 0.15);\n",
              "    fill: #174EA6;\n",
              "  }\n",
              "\n",
              "  [theme=dark] .colab-df-quickchart {\n",
              "    background-color: #3B4455;\n",
              "    fill: #D2E3FC;\n",
              "  }\n",
              "\n",
              "  [theme=dark] .colab-df-quickchart:hover {\n",
              "    background-color: #434B5C;\n",
              "    box-shadow: 0px 1px 3px 1px rgba(0, 0, 0, 0.15);\n",
              "    filter: drop-shadow(0px 1px 2px rgba(0, 0, 0, 0.3));\n",
              "    fill: #FFFFFF;\n",
              "  }\n",
              "</style>\n",
              "\n",
              "  <script>\n",
              "    async function quickchart(key) {\n",
              "      const charts = await google.colab.kernel.invokeFunction(\n",
              "          'suggestCharts', [key], {});\n",
              "    }\n",
              "    (() => {\n",
              "      let quickchartButtonEl =\n",
              "        document.querySelector('#df-012d780a-db27-441c-89f0-9cb4b17ce1ad button');\n",
              "      quickchartButtonEl.style.display =\n",
              "        google.colab.kernel.accessAllowed ? 'block' : 'none';\n",
              "    })();\n",
              "  </script>\n",
              "</div>\n",
              "    </div>\n",
              "  </div>\n"
            ]
          },
          "metadata": {},
          "execution_count": 13
        }
      ]
    },
    {
      "cell_type": "code",
      "source": [
        "# From the previous results, it shows that the 'discount' column contains NULL values. To simplify calculations, I will replace these NULL values with 0.\n",
        "\n",
        "order_df['discount'].fillna(0, inplace=True)"
      ],
      "metadata": {
        "id": "N2CSUucN5eng"
      },
      "execution_count": null,
      "outputs": []
    },
    {
      "cell_type": "code",
      "source": [
        "order_df.isnull().sum()"
      ],
      "metadata": {
        "colab": {
          "base_uri": "https://localhost:8080/"
        },
        "id": "71IRSNcx7MW9",
        "outputId": "07b503d5-79ad-4604-bcd6-34210a57df8c"
      },
      "execution_count": null,
      "outputs": [
        {
          "output_type": "execute_result",
          "data": {
            "text/plain": [
              "order_created_timestamp    0\n",
              "status                     0\n",
              "price                      0\n",
              "discount                   0\n",
              "id                         0\n",
              "driver_id                  0\n",
              "user_id                    0\n",
              "restaurant_id              0\n",
              "dtype: int64"
            ]
          },
          "metadata": {},
          "execution_count": 15
        }
      ]
    },
    {
      "cell_type": "code",
      "source": [
        "new_order = ['id', 'driver_id', 'user_id', 'restaurant_id', 'price', 'discount', 'order_created_timestamp', 'status']\n",
        "order_df = order_df[new_order]"
      ],
      "metadata": {
        "id": "Qrxeo2hj-OaE"
      },
      "execution_count": null,
      "outputs": []
    },
    {
      "cell_type": "code",
      "source": [
        "order_df.head()"
      ],
      "metadata": {
        "colab": {
          "base_uri": "https://localhost:8080/",
          "height": 206
        },
        "id": "d55j_EvF-Qqn",
        "outputId": "20382833-7875-435b-ef13-21c22297ae46"
      },
      "execution_count": null,
      "outputs": [
        {
          "output_type": "execute_result",
          "data": {
            "text/plain": [
              "                                     id                             driver_id  \\\n",
              "0  fe3409e8-9b9b-4680-8f8c-862f526f000f  064012bc-fc75-4a97-8993-203c52cab471   \n",
              "1  c7ea583b-12d7-454f-89aa-aabf62358035  06403af7-a69d-4496-9d1a-65a1d7d3fcf4   \n",
              "2  521249d3-e1c9-4d51-85b4-a967de658f60  0640aff3-e08c-47d1-829a-ed9bab234bfe   \n",
              "3  a24db3b2-9a47-405c-8e65-56452cc8f123  0640c49c-f07a-4727-941d-08078d0abe17   \n",
              "4  419380ea-b53c-4f1b-b654-5fc3e66845e9  0640c83e-bc5f-4d09-a95a-671c267da8d4   \n",
              "\n",
              "                                user_id restaurant_id  price  discount  \\\n",
              "0  96c1f2fb-1d75-4496-ab01-8264897c0660       R_43296    113      55.0   \n",
              "1  fe2921bb-b3e0-4a3b-b08d-d1b318a4c8a6       R_52641    138      80.0   \n",
              "2  208003e9-b22f-4997-b4dc-b5eccbda5759       R_25788     84      26.0   \n",
              "3  c78e29a9-fc5e-40f0-b07f-edebeb64e285       R_84999    185      25.0   \n",
              "4  aa616477-b559-49c6-a20b-b631cef166b3       R_21547    143      25.0   \n",
              "\n",
              "  order_created_timestamp     status  \n",
              "0     2019-06-08 17:31:57  COMPLETED  \n",
              "1     2019-06-17 22:13:57  COMPLETED  \n",
              "2     2019-06-12 12:58:22  COMPLETED  \n",
              "3     2019-02-08 13:57:41  COMPLETED  \n",
              "4     2019-03-18 20:23:30  COMPLETED  "
            ],
            "text/html": [
              "\n",
              "  <div id=\"df-cb6b07f4-4e54-4c77-a941-d3a89b3cd473\" class=\"colab-df-container\">\n",
              "    <div>\n",
              "<style scoped>\n",
              "    .dataframe tbody tr th:only-of-type {\n",
              "        vertical-align: middle;\n",
              "    }\n",
              "\n",
              "    .dataframe tbody tr th {\n",
              "        vertical-align: top;\n",
              "    }\n",
              "\n",
              "    .dataframe thead th {\n",
              "        text-align: right;\n",
              "    }\n",
              "</style>\n",
              "<table border=\"1\" class=\"dataframe\">\n",
              "  <thead>\n",
              "    <tr style=\"text-align: right;\">\n",
              "      <th></th>\n",
              "      <th>id</th>\n",
              "      <th>driver_id</th>\n",
              "      <th>user_id</th>\n",
              "      <th>restaurant_id</th>\n",
              "      <th>price</th>\n",
              "      <th>discount</th>\n",
              "      <th>order_created_timestamp</th>\n",
              "      <th>status</th>\n",
              "    </tr>\n",
              "  </thead>\n",
              "  <tbody>\n",
              "    <tr>\n",
              "      <th>0</th>\n",
              "      <td>fe3409e8-9b9b-4680-8f8c-862f526f000f</td>\n",
              "      <td>064012bc-fc75-4a97-8993-203c52cab471</td>\n",
              "      <td>96c1f2fb-1d75-4496-ab01-8264897c0660</td>\n",
              "      <td>R_43296</td>\n",
              "      <td>113</td>\n",
              "      <td>55.0</td>\n",
              "      <td>2019-06-08 17:31:57</td>\n",
              "      <td>COMPLETED</td>\n",
              "    </tr>\n",
              "    <tr>\n",
              "      <th>1</th>\n",
              "      <td>c7ea583b-12d7-454f-89aa-aabf62358035</td>\n",
              "      <td>06403af7-a69d-4496-9d1a-65a1d7d3fcf4</td>\n",
              "      <td>fe2921bb-b3e0-4a3b-b08d-d1b318a4c8a6</td>\n",
              "      <td>R_52641</td>\n",
              "      <td>138</td>\n",
              "      <td>80.0</td>\n",
              "      <td>2019-06-17 22:13:57</td>\n",
              "      <td>COMPLETED</td>\n",
              "    </tr>\n",
              "    <tr>\n",
              "      <th>2</th>\n",
              "      <td>521249d3-e1c9-4d51-85b4-a967de658f60</td>\n",
              "      <td>0640aff3-e08c-47d1-829a-ed9bab234bfe</td>\n",
              "      <td>208003e9-b22f-4997-b4dc-b5eccbda5759</td>\n",
              "      <td>R_25788</td>\n",
              "      <td>84</td>\n",
              "      <td>26.0</td>\n",
              "      <td>2019-06-12 12:58:22</td>\n",
              "      <td>COMPLETED</td>\n",
              "    </tr>\n",
              "    <tr>\n",
              "      <th>3</th>\n",
              "      <td>a24db3b2-9a47-405c-8e65-56452cc8f123</td>\n",
              "      <td>0640c49c-f07a-4727-941d-08078d0abe17</td>\n",
              "      <td>c78e29a9-fc5e-40f0-b07f-edebeb64e285</td>\n",
              "      <td>R_84999</td>\n",
              "      <td>185</td>\n",
              "      <td>25.0</td>\n",
              "      <td>2019-02-08 13:57:41</td>\n",
              "      <td>COMPLETED</td>\n",
              "    </tr>\n",
              "    <tr>\n",
              "      <th>4</th>\n",
              "      <td>419380ea-b53c-4f1b-b654-5fc3e66845e9</td>\n",
              "      <td>0640c83e-bc5f-4d09-a95a-671c267da8d4</td>\n",
              "      <td>aa616477-b559-49c6-a20b-b631cef166b3</td>\n",
              "      <td>R_21547</td>\n",
              "      <td>143</td>\n",
              "      <td>25.0</td>\n",
              "      <td>2019-03-18 20:23:30</td>\n",
              "      <td>COMPLETED</td>\n",
              "    </tr>\n",
              "  </tbody>\n",
              "</table>\n",
              "</div>\n",
              "    <div class=\"colab-df-buttons\">\n",
              "\n",
              "  <div class=\"colab-df-container\">\n",
              "    <button class=\"colab-df-convert\" onclick=\"convertToInteractive('df-cb6b07f4-4e54-4c77-a941-d3a89b3cd473')\"\n",
              "            title=\"Convert this dataframe to an interactive table.\"\n",
              "            style=\"display:none;\">\n",
              "\n",
              "  <svg xmlns=\"http://www.w3.org/2000/svg\" height=\"24px\" viewBox=\"0 -960 960 960\">\n",
              "    <path d=\"M120-120v-720h720v720H120Zm60-500h600v-160H180v160Zm220 220h160v-160H400v160Zm0 220h160v-160H400v160ZM180-400h160v-160H180v160Zm440 0h160v-160H620v160ZM180-180h160v-160H180v160Zm440 0h160v-160H620v160Z\"/>\n",
              "  </svg>\n",
              "    </button>\n",
              "\n",
              "  <style>\n",
              "    .colab-df-container {\n",
              "      display:flex;\n",
              "      gap: 12px;\n",
              "    }\n",
              "\n",
              "    .colab-df-convert {\n",
              "      background-color: #E8F0FE;\n",
              "      border: none;\n",
              "      border-radius: 50%;\n",
              "      cursor: pointer;\n",
              "      display: none;\n",
              "      fill: #1967D2;\n",
              "      height: 32px;\n",
              "      padding: 0 0 0 0;\n",
              "      width: 32px;\n",
              "    }\n",
              "\n",
              "    .colab-df-convert:hover {\n",
              "      background-color: #E2EBFA;\n",
              "      box-shadow: 0px 1px 2px rgba(60, 64, 67, 0.3), 0px 1px 3px 1px rgba(60, 64, 67, 0.15);\n",
              "      fill: #174EA6;\n",
              "    }\n",
              "\n",
              "    .colab-df-buttons div {\n",
              "      margin-bottom: 4px;\n",
              "    }\n",
              "\n",
              "    [theme=dark] .colab-df-convert {\n",
              "      background-color: #3B4455;\n",
              "      fill: #D2E3FC;\n",
              "    }\n",
              "\n",
              "    [theme=dark] .colab-df-convert:hover {\n",
              "      background-color: #434B5C;\n",
              "      box-shadow: 0px 1px 3px 1px rgba(0, 0, 0, 0.15);\n",
              "      filter: drop-shadow(0px 1px 2px rgba(0, 0, 0, 0.3));\n",
              "      fill: #FFFFFF;\n",
              "    }\n",
              "  </style>\n",
              "\n",
              "    <script>\n",
              "      const buttonEl =\n",
              "        document.querySelector('#df-cb6b07f4-4e54-4c77-a941-d3a89b3cd473 button.colab-df-convert');\n",
              "      buttonEl.style.display =\n",
              "        google.colab.kernel.accessAllowed ? 'block' : 'none';\n",
              "\n",
              "      async function convertToInteractive(key) {\n",
              "        const element = document.querySelector('#df-cb6b07f4-4e54-4c77-a941-d3a89b3cd473');\n",
              "        const dataTable =\n",
              "          await google.colab.kernel.invokeFunction('convertToInteractive',\n",
              "                                                    [key], {});\n",
              "        if (!dataTable) return;\n",
              "\n",
              "        const docLinkHtml = 'Like what you see? Visit the ' +\n",
              "          '<a target=\"_blank\" href=https://colab.research.google.com/notebooks/data_table.ipynb>data table notebook</a>'\n",
              "          + ' to learn more about interactive tables.';\n",
              "        element.innerHTML = '';\n",
              "        dataTable['output_type'] = 'display_data';\n",
              "        await google.colab.output.renderOutput(dataTable, element);\n",
              "        const docLink = document.createElement('div');\n",
              "        docLink.innerHTML = docLinkHtml;\n",
              "        element.appendChild(docLink);\n",
              "      }\n",
              "    </script>\n",
              "  </div>\n",
              "\n",
              "\n",
              "<div id=\"df-99d96f26-038a-42a6-96d5-2b71f276d860\">\n",
              "  <button class=\"colab-df-quickchart\" onclick=\"quickchart('df-99d96f26-038a-42a6-96d5-2b71f276d860')\"\n",
              "            title=\"Suggest charts.\"\n",
              "            style=\"display:none;\">\n",
              "\n",
              "<svg xmlns=\"http://www.w3.org/2000/svg\" height=\"24px\"viewBox=\"0 0 24 24\"\n",
              "     width=\"24px\">\n",
              "    <g>\n",
              "        <path d=\"M19 3H5c-1.1 0-2 .9-2 2v14c0 1.1.9 2 2 2h14c1.1 0 2-.9 2-2V5c0-1.1-.9-2-2-2zM9 17H7v-7h2v7zm4 0h-2V7h2v10zm4 0h-2v-4h2v4z\"/>\n",
              "    </g>\n",
              "</svg>\n",
              "  </button>\n",
              "\n",
              "<style>\n",
              "  .colab-df-quickchart {\n",
              "    background-color: #E8F0FE;\n",
              "    border: none;\n",
              "    border-radius: 50%;\n",
              "    cursor: pointer;\n",
              "    display: none;\n",
              "    fill: #1967D2;\n",
              "    height: 32px;\n",
              "    padding: 0 0 0 0;\n",
              "    width: 32px;\n",
              "  }\n",
              "\n",
              "  .colab-df-quickchart:hover {\n",
              "    background-color: #E2EBFA;\n",
              "    box-shadow: 0px 1px 2px rgba(60, 64, 67, 0.3), 0px 1px 3px 1px rgba(60, 64, 67, 0.15);\n",
              "    fill: #174EA6;\n",
              "  }\n",
              "\n",
              "  [theme=dark] .colab-df-quickchart {\n",
              "    background-color: #3B4455;\n",
              "    fill: #D2E3FC;\n",
              "  }\n",
              "\n",
              "  [theme=dark] .colab-df-quickchart:hover {\n",
              "    background-color: #434B5C;\n",
              "    box-shadow: 0px 1px 3px 1px rgba(0, 0, 0, 0.15);\n",
              "    filter: drop-shadow(0px 1px 2px rgba(0, 0, 0, 0.3));\n",
              "    fill: #FFFFFF;\n",
              "  }\n",
              "</style>\n",
              "\n",
              "  <script>\n",
              "    async function quickchart(key) {\n",
              "      const charts = await google.colab.kernel.invokeFunction(\n",
              "          'suggestCharts', [key], {});\n",
              "    }\n",
              "    (() => {\n",
              "      let quickchartButtonEl =\n",
              "        document.querySelector('#df-99d96f26-038a-42a6-96d5-2b71f276d860 button');\n",
              "      quickchartButtonEl.style.display =\n",
              "        google.colab.kernel.accessAllowed ? 'block' : 'none';\n",
              "    })();\n",
              "  </script>\n",
              "</div>\n",
              "    </div>\n",
              "  </div>\n"
            ]
          },
          "metadata": {},
          "execution_count": 17
        }
      ]
    },
    {
      "cell_type": "markdown",
      "source": [
        "# Create connection to PostgreSQL database"
      ],
      "metadata": {
        "id": "W9VUyblK7Rpo"
      }
    },
    {
      "cell_type": "code",
      "execution_count": null,
      "metadata": {
        "id": "P05IFYPpf5wv"
      },
      "outputs": [],
      "source": [
        "# # install PostgreSQL\n",
        "# !apt install postgresql postgresql-contrib &>log\n",
        "\n",
        "# # start PostgreSQL serviecs\n",
        "# !service postgresql start\n",
        "\n",
        "# # Create root user\n",
        "# !sudo -u postgres psql -c \"CREATE USER root WITH SUPERUSER\"\n",
        "\n",
        "# # Create database\n",
        "# !sudo -u postgres createdb test"
      ]
    },
    {
      "cell_type": "code",
      "source": [
        "# Call the psycopg2 module to establish a connection to the PostgreSQL database.\n",
        "\n",
        "import psycopg2"
      ],
      "metadata": {
        "id": "w08m_5cR7q0o"
      },
      "execution_count": null,
      "outputs": []
    },
    {
      "cell_type": "code",
      "source": [
        "# Declare the main variables that will be used.\n",
        "\n",
        "DATABASE = \"test\"\n",
        "USER = \"root\"\n",
        "ORDER_TABLE = 'order_detail'\n",
        "RESTAURANT_TABLE = 'restaurant_detail'"
      ],
      "metadata": {
        "id": "yMGkWlUh8R2d"
      },
      "execution_count": null,
      "outputs": []
    },
    {
      "cell_type": "code",
      "source": [
        "# Create a function for connecting to the PostgreSQL database.\n",
        "\n",
        "def create_connection_postgresql(Database : str, User : str):\n",
        "  conn = psycopg2.connect(\n",
        "  database=Database,\n",
        "  user=User,\n",
        "  )\n",
        "\n",
        "  return conn"
      ],
      "metadata": {
        "id": "S7W0t3Te7vcy"
      },
      "execution_count": null,
      "outputs": []
    },
    {
      "cell_type": "code",
      "source": [
        "# Create a function to execute various queries, mainly to catch errors that may occur when running queries related to DELETE, UPDATE, INSERT to prevent data loss.\n",
        "\n",
        "def execute_query(QUERY : str, VALUES : tuple = None):\n",
        "  \"\"\"\n",
        "    1. QUERY is a query statement that need to be execute\n",
        "    2. VALUES is a tuple for handle case that require placeholder (default = None)\n",
        "  \"\"\"\n",
        "  try:\n",
        "    cur.execute(QUERY, VALUES)\n",
        "    conn.commit()\n",
        "  except Exception as e:\n",
        "    conn.rollback()\n",
        "    print(f\"Execute query Failed\", e)"
      ],
      "metadata": {
        "id": "9_jg3cyj744z"
      },
      "execution_count": null,
      "outputs": []
    },
    {
      "cell_type": "code",
      "source": [
        "# Create a function to check the table that has been created.\n",
        "\n",
        "def check_ddl_table(TABLENAME):\n",
        "\n",
        "  QUERY_CHECK_TBL = f\"\"\"\n",
        "        SELECT column_name, data_type\n",
        "        FROM information_schema.columns\n",
        "        WHERE table_name = %s\n",
        "        ORDER BY ordinal_position\n",
        "  \"\"\"\n",
        "\n",
        "  # Using substitution (%s) for ease of changing TABLE_NAME in the future.\n",
        "  # Since we are using substitution in the execution step, it is necessary to provide a second argument as a tuple value so that during execution, this TABLE_NAME value is parsed to '%s'.\n",
        "  cur.execute(QUERY_CHECK_TBL, (TABLENAME,))\n",
        "\n",
        "  # Fetch the output if needed\n",
        "  column_info = cur.fetchall()\n",
        "\n",
        "  for row in column_info:\n",
        "    print(row)"
      ],
      "metadata": {
        "id": "BI23fwCs77PS"
      },
      "execution_count": null,
      "outputs": []
    },
    {
      "cell_type": "code",
      "source": [
        "# Invoke the cursor method for executing SQL and fetching data that will be used for querying data.\n",
        "conn = create_connection_postgresql(DATABASE, USER)\n",
        "cur = conn.cursor()\n",
        "\n",
        "QUERY_DROP_TBL_ORDER = f\" DROP TABLE IF EXISTS {ORDER_TABLE}\"\n",
        "QUERY_DROP_TBL_REST = f\" DROP TABLE IF EXISTS {RESTAURANT_TABLE}\"\n",
        "\n",
        "# execute_query(QUERY_DROP_TBL_ORDER)\n",
        "# execute_query(QUERY_DROP_TBL_REST)\n",
        "\n",
        "QUERY_CREATE_TBL_ORDER = f\"\"\" CREATE TABLE IF NOT EXISTS {ORDER_TABLE} (\n",
        "    \"order_created_timestamp\" TIMESTAMP,\n",
        "    \"status\" VARCHAR(256),\n",
        "    \"price\" INTEGER,\n",
        "    \"discount\" FLOAT,\n",
        "    \"id\" VARCHAR(256),\n",
        "    \"driver_id\" VARCHAR(256),\n",
        "    \"user_id\" VARCHAR(256),\n",
        "    \"restaurant_id\" VARCHAR(256))\n",
        "\"\"\"\n",
        "\n",
        "\n",
        "QUERY_CREATE_TBL_REST = f\"\"\" CREATE TABLE IF NOT EXISTS {RESTAURANT_TABLE} (\n",
        "    \"id\" VARCHAR(256),\n",
        "    \"restaurant_name\" VARCHAR(256),\n",
        "    \"category\" VARCHAR(256),\n",
        "    \"esimated_cooking_time\" FLOAT,\n",
        "    \"latitude\" FLOAT,\n",
        "    \"longitude\" FLOAT)\n",
        "    \"\"\"\n",
        "\n",
        "# execute_query(QUERY_CREATE_TBL_ORDER)\n",
        "execute_query(QUERY_CREATE_TBL_REST)"
      ],
      "metadata": {
        "id": "TMSHtqlZ79Au"
      },
      "execution_count": null,
      "outputs": []
    },
    {
      "cell_type": "code",
      "source": [
        "print(f\"Check DDL table {ORDER_TABLE} ....\\n\")\n",
        "order_tbl_result = check_ddl_table(ORDER_TABLE)\n",
        "order_tbl_result"
      ],
      "metadata": {
        "colab": {
          "base_uri": "https://localhost:8080/"
        },
        "id": "M_a-ZoDr--iw",
        "outputId": "73e15fe4-ca05-40aa-b39b-69ba1b89b7bf"
      },
      "execution_count": null,
      "outputs": [
        {
          "output_type": "stream",
          "name": "stdout",
          "text": [
            "Check DDL table order_detail ....\n",
            "\n",
            "('order_created_timestamp', 'timestamp without time zone')\n",
            "('status', 'character varying')\n",
            "('price', 'integer')\n",
            "('discount', 'double precision')\n",
            "('id', 'character varying')\n",
            "('driver_id', 'character varying')\n",
            "('user_id', 'character varying')\n",
            "('restaurant_id', 'character varying')\n"
          ]
        }
      ]
    },
    {
      "cell_type": "code",
      "source": [
        "print(f\"Check DDL table {RESTAURANT_TABLE} ....\\n\")\n",
        "rest_tbl_result = check_ddl_table(RESTAURANT_TABLE)\n",
        "rest_tbl_result"
      ],
      "metadata": {
        "colab": {
          "base_uri": "https://localhost:8080/"
        },
        "id": "DhkR0_LRQVRt",
        "outputId": "08427bab-e78f-47e1-c13d-215cd109667c"
      },
      "execution_count": null,
      "outputs": [
        {
          "output_type": "stream",
          "name": "stdout",
          "text": [
            "Check DDL table restaurant_detail ....\n",
            "\n",
            "('id', 'character varying')\n",
            "('restaurant_name', 'character varying')\n",
            "('category', 'character varying')\n",
            "('estimated_cooking_time', 'double precision')\n",
            "('latitude', 'double precision')\n",
            "('longitude', 'double precision')\n"
          ]
        }
      ]
    },
    {
      "cell_type": "code",
      "source": [
        "# Create a function for data ingestion.\n",
        "\n",
        "def Ingest_df_to_db(DataFrame : pd.DataFrame, Table_name : str, Database : str, User : str, BatchSize : int, Truncate = True) -> None:\n",
        "  \"\"\"\n",
        "  Parameter\n",
        "    1. DataFrame is parameter for pandas DataFrame\n",
        "    2. Table_name is parameter for pandas table name\n",
        "    3. Database is parameter for database name\n",
        "    4. User is parameter for user\n",
        "    5. BatchSize is size of batch to insert into table\n",
        "    6. Truncate is delete all record from table before ingestion (default = True)\n",
        "\n",
        "  \"\"\"\n",
        "\n",
        "  TOTAL_REC = len(DataFrame)\n",
        "\n",
        "\n",
        "  # Truncate the data every time, under the assumption that there is only one set of data for ingestion.\n",
        "  # If in the future there is a need to insert additional data, this section will need to be modified.\n",
        "  if Truncate:\n",
        "    try:\n",
        "      print(f\"START TRUNCATE TABLE `{Table_name}` ....\")\n",
        "      cur.execute(f\"TRUNCATE TABLE {Table_name}\")\n",
        "      conn.commit()\n",
        "      print(f\"TRUNCATE TABLE `{Table_name}` >> COMPLETE\")\n",
        "    except Exception as e:\n",
        "      print(f\"TRUNCATE TABLE `{Table_name}` >> FAILED\", e)\n",
        "\n",
        "  print(f\"======== START INGEST DATA INTO `{Database}`.`{Table_name}` ========\")\n",
        "\n",
        "  try:\n",
        "    for index, row in DataFrame.iterrows():\n",
        "      column_names = []\n",
        "      values = []\n",
        "\n",
        "      for column_name in DataFrame.columns:\n",
        "\n",
        "          # Enclose column names with \"\" for case-sensitivity\n",
        "          column_names.append(f'\"{column_name}\"')\n",
        "          values.append(row[column_name])\n",
        "\n",
        "      columns_str = \", \".join(column_names)\n",
        "\n",
        "      # The data contains various data types, and these placeholders will be used in a join operation to create a set of columns.\n",
        "      placeholders = \", \".join([\"%s\"] * len(values))\n",
        "      values = tuple(values)\n",
        "\n",
        "      QUERY_INSERT = f\"INSERT INTO {Table_name} ({columns_str}) VALUES ({placeholders})\"\n",
        "      execute_query(QUERY_INSERT, values)  # Use parameterized query with values list\n",
        "\n",
        "      if (index % BatchSize == 1+0e-2 ) or ((index + 1) % TOTAL_REC ==  0):\n",
        "        conn.commit()\n",
        "\n",
        "        message : str = f\"ROWS INSERT STATUS ------ [{index}/{TOTAL_REC}] ------\"\n",
        "        print(message)\n",
        "\n",
        "\n",
        "    # Check record count in table\n",
        "    cur.execute(f\"SELECT COUNT(1) FROM {Table_name}\")\n",
        "    result_rec_count = cur.fetchall()\n",
        "\n",
        "    if result_rec_count[0][0] == TOTAL_REC:\n",
        "      rec_count_status = \"SUCCESS\"\n",
        "    else:\n",
        "      rec_count_status = \"FAILED\"\n",
        "\n",
        "    # Check null in table\n",
        "    columns_str_chk_null = \" IS NULL OR \".join(column_names)\n",
        "    CONDITION = columns_str_chk_null+\" IS NULL\"\n",
        "\n",
        "    QUERY_CHK_NULL = f\"\"\"\n",
        "        SELECT COUNT(*)\n",
        "        FROM {Table_name}\n",
        "        WHERE {CONDITION}\n",
        "    \"\"\"\n",
        "\n",
        "    cur.execute(QUERY_CHK_NULL)\n",
        "    result_chk_null = cur.fetchall()\n",
        "\n",
        "\n",
        "    if result_chk_null[0][0] == 0:\n",
        "      chk_null_status = \"SUCCESS\"\n",
        "    else:\n",
        "      chk_null_status = \"FAILED\"\n",
        "\n",
        "    print(f\"======== RECONCILE PROCESS ========\")\n",
        "    print(f\"Source rows = {TOTAL_REC}\")\n",
        "    print(f\"Target rows = {result_rec_count[0][0]}\")\n",
        "    print(f\"Record count status = {rec_count_status}\")\n",
        "    print(f\"Check null status = {chk_null_status}\")\n",
        "\n",
        "  except Exception as e:\n",
        "      raise(\"Something went wrong\", e)"
      ],
      "metadata": {
        "id": "2LqmgViiPkzc"
      },
      "execution_count": null,
      "outputs": []
    },
    {
      "cell_type": "code",
      "source": [
        "Ingest_df_to_db(order_df, ORDER_TABLE, 'test', 'root', 1e5)"
      ],
      "metadata": {
        "colab": {
          "base_uri": "https://localhost:8080/"
        },
        "id": "tTWyhoVTWzVg",
        "outputId": "594864bf-94ee-4f05-9f95-2153c539d5da"
      },
      "execution_count": null,
      "outputs": [
        {
          "output_type": "stream",
          "name": "stdout",
          "text": [
            "START TRUNCATE TABLE `order_detail` ....\n",
            "TRUNCATE TABLE `order_detail` >> COMPLETE\n",
            "======== START INGEST DATA INTO `test`.`order_detail` ========\n",
            "ROWS INSERT STATUS ------ [1/395361] ------\n",
            "ROWS INSERT STATUS ------ [100001/395361] ------\n",
            "ROWS INSERT STATUS ------ [200001/395361] ------\n",
            "ROWS INSERT STATUS ------ [300001/395361] ------\n",
            "ROWS INSERT STATUS ------ [395360/395361] ------\n",
            "======== RECONCILE PROCESS ========\n",
            "Source rows = 395361\n",
            "Target rows = 395361\n",
            "Record count status = SUCCESS\n",
            "Check null status = SUCCESS\n"
          ]
        }
      ]
    },
    {
      "cell_type": "code",
      "source": [
        "Ingest_df_to_db(restaurant_df, RESTAURANT_TABLE, 'test', 'root', 3*1e3)"
      ],
      "metadata": {
        "colab": {
          "base_uri": "https://localhost:8080/"
        },
        "id": "wB6NPI6BXV4z",
        "outputId": "45a4621e-c5be-49f2-d3aa-bdd950f8704f"
      },
      "execution_count": null,
      "outputs": [
        {
          "output_type": "stream",
          "name": "stdout",
          "text": [
            "START TRUNCATE TABLE `restaurant_detail` ....\n",
            "TRUNCATE TABLE `restaurant_detail` >> COMPLETE\n",
            "======== START INGEST DATA INTO `test`.`restaurant_detail` ========\n",
            "ROWS INSERT STATUS ------ [1/12623] ------\n",
            "ROWS INSERT STATUS ------ [3001/12623] ------\n",
            "ROWS INSERT STATUS ------ [6001/12623] ------\n",
            "ROWS INSERT STATUS ------ [9001/12623] ------\n",
            "ROWS INSERT STATUS ------ [12001/12623] ------\n",
            "ROWS INSERT STATUS ------ [12622/12623] ------\n",
            "======== RECONCILE PROCESS ========\n",
            "Source rows = 12623\n",
            "Target rows = 12623\n",
            "Record count status = SUCCESS\n",
            "Check null status = SUCCESS\n"
          ]
        }
      ]
    },
    {
      "cell_type": "markdown",
      "source": [
        "# Create connection to HIVE database"
      ],
      "metadata": {
        "id": "Jv258MwQlo0h"
      }
    },
    {
      "cell_type": "code",
      "source": [
        "!pip install thrift thrift-sasl pyhive"
      ],
      "metadata": {
        "colab": {
          "base_uri": "https://localhost:8080/"
        },
        "id": "DsD5ElwLlvkO",
        "outputId": "09715b33-3b0e-4d1f-bd46-6e81f38cffec"
      },
      "execution_count": null,
      "outputs": [
        {
          "output_type": "stream",
          "name": "stdout",
          "text": [
            "Requirement already satisfied: thrift in /usr/local/lib/python3.10/dist-packages (0.16.0)\n",
            "Collecting thrift-sasl\n",
            "  Downloading thrift_sasl-0.4.3-py2.py3-none-any.whl (8.3 kB)\n",
            "Requirement already satisfied: pyhive in /usr/local/lib/python3.10/dist-packages (0.7.0)\n",
            "Requirement already satisfied: six>=1.7.2 in /usr/local/lib/python3.10/dist-packages (from thrift) (1.16.0)\n",
            "Collecting pure-sasl>=0.6.2 (from thrift-sasl)\n",
            "  Downloading pure-sasl-0.6.2.tar.gz (11 kB)\n",
            "  Preparing metadata (setup.py) ... \u001b[?25l\u001b[?25hdone\n",
            "Requirement already satisfied: future in /usr/local/lib/python3.10/dist-packages (from pyhive) (0.18.3)\n",
            "Requirement already satisfied: python-dateutil in /usr/local/lib/python3.10/dist-packages (from pyhive) (2.8.2)\n",
            "Building wheels for collected packages: pure-sasl\n",
            "  Building wheel for pure-sasl (setup.py) ... \u001b[?25l\u001b[?25hdone\n",
            "  Created wheel for pure-sasl: filename=pure_sasl-0.6.2-py3-none-any.whl size=11423 sha256=2c9b6ad77bec259c5cfd78fa0d42dc1c3a1908d886be96bbd2f53af0a4236ee9\n",
            "  Stored in directory: /root/.cache/pip/wheels/57/7c/93/062238b0a68efe214024ca178233f248971045db1033c96a52\n",
            "Successfully built pure-sasl\n",
            "Installing collected packages: pure-sasl, thrift-sasl\n",
            "Successfully installed pure-sasl-0.6.2 thrift-sasl-0.4.3\n"
          ]
        }
      ]
    },
    {
      "cell_type": "code",
      "source": [
        "from pyhive import hive\n",
        "\n",
        "conn = hive.Connection(host='127.0.0.1', port=10000, username='root')"
      ],
      "metadata": {
        "colab": {
          "base_uri": "https://localhost:8080/",
          "height": 374
        },
        "id": "_-p1ZkN_o3NH",
        "outputId": "98ff0342-ee56-4937-b99b-55a1807ba000"
      },
      "execution_count": null,
      "outputs": [
        {
          "output_type": "stream",
          "name": "stderr",
          "text": [
            "ERROR:thrift.transport.TSocket:Could not connect to any of [('127.0.0.1', 10000)]\n"
          ]
        },
        {
          "output_type": "error",
          "ename": "TTransportException",
          "evalue": "ignored",
          "traceback": [
            "\u001b[0;31m---------------------------------------------------------------------------\u001b[0m",
            "\u001b[0;31mTTransportException\u001b[0m                       Traceback (most recent call last)",
            "\u001b[0;32m<ipython-input-40-0ea74caffe6f>\u001b[0m in \u001b[0;36m<cell line: 3>\u001b[0;34m()\u001b[0m\n\u001b[1;32m      1\u001b[0m \u001b[0;32mfrom\u001b[0m \u001b[0mpyhive\u001b[0m \u001b[0;32mimport\u001b[0m \u001b[0mhive\u001b[0m\u001b[0;34m\u001b[0m\u001b[0;34m\u001b[0m\u001b[0m\n\u001b[1;32m      2\u001b[0m \u001b[0;34m\u001b[0m\u001b[0m\n\u001b[0;32m----> 3\u001b[0;31m \u001b[0mconn\u001b[0m \u001b[0;34m=\u001b[0m \u001b[0mhive\u001b[0m\u001b[0;34m.\u001b[0m\u001b[0mConnection\u001b[0m\u001b[0;34m(\u001b[0m\u001b[0mhost\u001b[0m\u001b[0;34m=\u001b[0m\u001b[0;34m'127.0.0.1'\u001b[0m\u001b[0;34m,\u001b[0m \u001b[0mport\u001b[0m\u001b[0;34m=\u001b[0m\u001b[0;36m10000\u001b[0m\u001b[0;34m,\u001b[0m \u001b[0musername\u001b[0m\u001b[0;34m=\u001b[0m\u001b[0;34m'root'\u001b[0m\u001b[0;34m)\u001b[0m\u001b[0;34m\u001b[0m\u001b[0;34m\u001b[0m\u001b[0m\n\u001b[0m",
            "\u001b[0;32m/usr/local/lib/python3.10/dist-packages/pyhive/hive.py\u001b[0m in \u001b[0;36m__init__\u001b[0;34m(self, host, port, scheme, username, database, auth, configuration, kerberos_service_name, password, check_hostname, ssl_cert, thrift_transport)\u001b[0m\n\u001b[1;32m    267\u001b[0m \u001b[0;34m\u001b[0m\u001b[0m\n\u001b[1;32m    268\u001b[0m         \u001b[0;32mtry\u001b[0m\u001b[0;34m:\u001b[0m\u001b[0;34m\u001b[0m\u001b[0;34m\u001b[0m\u001b[0m\n\u001b[0;32m--> 269\u001b[0;31m             \u001b[0mself\u001b[0m\u001b[0;34m.\u001b[0m\u001b[0m_transport\u001b[0m\u001b[0;34m.\u001b[0m\u001b[0mopen\u001b[0m\u001b[0;34m(\u001b[0m\u001b[0;34m)\u001b[0m\u001b[0;34m\u001b[0m\u001b[0;34m\u001b[0m\u001b[0m\n\u001b[0m\u001b[1;32m    270\u001b[0m             open_session_req = ttypes.TOpenSessionReq(\n\u001b[1;32m    271\u001b[0m                 \u001b[0mclient_protocol\u001b[0m\u001b[0;34m=\u001b[0m\u001b[0mprotocol_version\u001b[0m\u001b[0;34m,\u001b[0m\u001b[0;34m\u001b[0m\u001b[0;34m\u001b[0m\u001b[0m\n",
            "\u001b[0;32m/usr/local/lib/python3.10/dist-packages/thrift_sasl/__init__.py\u001b[0m in \u001b[0;36mopen\u001b[0;34m(self)\u001b[0m\n\u001b[1;32m     72\u001b[0m   \u001b[0;32mdef\u001b[0m \u001b[0mopen\u001b[0m\u001b[0;34m(\u001b[0m\u001b[0mself\u001b[0m\u001b[0;34m)\u001b[0m\u001b[0;34m:\u001b[0m\u001b[0;34m\u001b[0m\u001b[0;34m\u001b[0m\u001b[0m\n\u001b[1;32m     73\u001b[0m     \u001b[0;32mif\u001b[0m \u001b[0;32mnot\u001b[0m \u001b[0mself\u001b[0m\u001b[0;34m.\u001b[0m\u001b[0misOpen\u001b[0m\u001b[0;34m(\u001b[0m\u001b[0;34m)\u001b[0m\u001b[0;34m:\u001b[0m\u001b[0;34m\u001b[0m\u001b[0;34m\u001b[0m\u001b[0m\n\u001b[0;32m---> 74\u001b[0;31m       \u001b[0mself\u001b[0m\u001b[0;34m.\u001b[0m\u001b[0m_trans\u001b[0m\u001b[0;34m.\u001b[0m\u001b[0mopen\u001b[0m\u001b[0;34m(\u001b[0m\u001b[0;34m)\u001b[0m\u001b[0;34m\u001b[0m\u001b[0;34m\u001b[0m\u001b[0m\n\u001b[0m\u001b[1;32m     75\u001b[0m \u001b[0;34m\u001b[0m\u001b[0m\n\u001b[1;32m     76\u001b[0m     \u001b[0;32mif\u001b[0m \u001b[0mself\u001b[0m\u001b[0;34m.\u001b[0m\u001b[0msasl\u001b[0m \u001b[0;32mis\u001b[0m \u001b[0;32mnot\u001b[0m \u001b[0;32mNone\u001b[0m\u001b[0;34m:\u001b[0m\u001b[0;34m\u001b[0m\u001b[0;34m\u001b[0m\u001b[0m\n",
            "\u001b[0;32m/usr/local/lib/python3.10/dist-packages/thrift/transport/TSocket.py\u001b[0m in \u001b[0;36mopen\u001b[0;34m(self)\u001b[0m\n\u001b[1;32m    144\u001b[0m                                                           addrs))\n\u001b[1;32m    145\u001b[0m         \u001b[0mlogger\u001b[0m\u001b[0;34m.\u001b[0m\u001b[0merror\u001b[0m\u001b[0;34m(\u001b[0m\u001b[0mmsg\u001b[0m\u001b[0;34m)\u001b[0m\u001b[0;34m\u001b[0m\u001b[0;34m\u001b[0m\u001b[0m\n\u001b[0;32m--> 146\u001b[0;31m         \u001b[0;32mraise\u001b[0m \u001b[0mTTransportException\u001b[0m\u001b[0;34m(\u001b[0m\u001b[0mtype\u001b[0m\u001b[0;34m=\u001b[0m\u001b[0mTTransportException\u001b[0m\u001b[0;34m.\u001b[0m\u001b[0mNOT_OPEN\u001b[0m\u001b[0;34m,\u001b[0m \u001b[0mmessage\u001b[0m\u001b[0;34m=\u001b[0m\u001b[0mmsg\u001b[0m\u001b[0;34m)\u001b[0m\u001b[0;34m\u001b[0m\u001b[0;34m\u001b[0m\u001b[0m\n\u001b[0m\u001b[1;32m    147\u001b[0m \u001b[0;34m\u001b[0m\u001b[0m\n\u001b[1;32m    148\u001b[0m     \u001b[0;32mdef\u001b[0m \u001b[0mread\u001b[0m\u001b[0;34m(\u001b[0m\u001b[0mself\u001b[0m\u001b[0;34m,\u001b[0m \u001b[0msz\u001b[0m\u001b[0;34m)\u001b[0m\u001b[0;34m:\u001b[0m\u001b[0;34m\u001b[0m\u001b[0;34m\u001b[0m\u001b[0m\n",
            "\u001b[0;31mTTransportException\u001b[0m: Could not connect to any of [('127.0.0.1', 10000)]"
          ]
        }
      ]
    },
    {
      "cell_type": "code",
      "source": [
        "# Create a function for connecting to the PostgreSQL database.\n",
        "\n",
        "def create_connection_postgresql(Database : str, User : str):\n",
        "  conn = psycopg2.connect(\n",
        "  database=Database,\n",
        "  user=User,\n",
        "  )\n",
        "\n",
        "  return conn"
      ],
      "metadata": {
        "id": "R973sVthlrb5"
      },
      "execution_count": null,
      "outputs": []
    },
    {
      "cell_type": "code",
      "source": [
        "from pyspark.sql import Session\n",
        "from pyspark.sql.functions import withColumn, when"
      ],
      "metadata": {
        "id": "hHv87M0i8l-B"
      },
      "execution_count": null,
      "outputs": []
    },
    {
      "cell_type": "code",
      "source": [
        "# Create session to database\n",
        "\n",
        "spark= SparkSession.builder()\\\n",
        "    .master(\"local[1]\")\\\n",
        "    .appName(\"Lineman_test\")\\\n",
        "    .getOrCreate()"
      ],
      "metadata": {
        "id": "lWsGke4t-Evx"
      },
      "execution_count": null,
      "outputs": []
    },
    {
      "cell_type": "code",
      "source": [
        "# Read source file\n",
        "\n",
        "order_spark_df = spark.read.option(\"header\",True).csv(order_file)\n",
        "restaurant_spark_df = spark.read.option(\"header\",True).csv(restaurant_file)"
      ],
      "metadata": {
        "id": "lPZOiMA-8d4n"
      },
      "execution_count": null,
      "outputs": []
    },
    {
      "cell_type": "code",
      "source": [
        "order_spark_df.show(5)"
      ],
      "metadata": {
        "id": "EoC0rrjy_JfA"
      },
      "execution_count": null,
      "outputs": []
    },
    {
      "cell_type": "code",
      "source": [
        "restaurant_spark_df.show(5)"
      ],
      "metadata": {
        "id": "Hzee9qv-_MVp"
      },
      "execution_count": null,
      "outputs": []
    },
    {
      "cell_type": "code",
      "source": [
        "order_spark_df.printSchema()\n",
        "restaurant_spark_df.printSchema()"
      ],
      "metadata": {
        "id": "HP7R16gm_Og-"
      },
      "execution_count": null,
      "outputs": []
    },
    {
      "cell_type": "code",
      "source": [
        "# Add a new column named 'dt' that extracts the date from the 'order_created_timestamp' column in the format 'YYYYMMDD'.\n",
        "\n",
        "order_spark_df = order_spark_df.withColumn(\"dt\", to_date(\"order_created_timestamp\", \"YYYYMMDD\"))\n",
        "order_spark_df.show()"
      ],
      "metadata": {
        "id": "3uOE56ZhCQ5C"
      },
      "execution_count": null,
      "outputs": []
    },
    {
      "cell_type": "code",
      "source": [
        "# Use the 'lit' function to add a new column and assign it a literal or constant value.\n",
        "\n",
        "restaurant_spark_df = restaurant_spark_df.withColumn(\"dt\", lit(\"latest\"))\n",
        "restaurant_spark_df.show()"
      ],
      "metadata": {
        "id": "XUZDdXAQEOpE"
      },
      "execution_count": null,
      "outputs": []
    },
    {
      "cell_type": "code",
      "source": [
        "# Create a Parquet file from both Spark DataFrames.\n",
        "\n",
        "order_spark_df.write.partitionBy(\"dt\")\\\n",
        "    .format(\"parquet\")\\\n",
        "    .save(\"/content/order_detail.parquet\")\n",
        "\n",
        "restaurant_spark_df.write.partitionBy(\"dt\")\\\n",
        "    .format(\"parquet\")\\\n",
        "    .save(\"/content/restaurant_detail.parquet\")"
      ],
      "metadata": {
        "id": "j0P2YOl89oLT"
      },
      "execution_count": null,
      "outputs": []
    },
    {
      "cell_type": "code",
      "source": [
        "# Create an external table with a partition column, using a specific Parquet file as the source file location.\n",
        "\n",
        "QUERY_CREATE_EXT_ORDER = f\"\"\" CREATE EXTERNAL TABLE `order_detail` (\n",
        "    `order_created_timestamp` TIMESTAMP,\n",
        "    `status` VARCHAR(256),\n",
        "    `price` INTEGER,\n",
        "    `discount` FLOAT,\n",
        "    `id` VARCHAR(256),\n",
        "    `driver_id` VARCHAR(256),\n",
        "    `user_id` VARCHAR(256),\n",
        "    `restaurant_id` VARCHAR(256),\n",
        "    )\n",
        "    PARTITIONED BY (`dt` STRING)\n",
        "    STORED AS PARQUET\n",
        "    LOCATION '/content/order_detail.parquet'\n",
        "    \"\"\"\n",
        "\n",
        "QUERY_CREATE_EXT_REST = f\"\"\" CREATE EXTERNAL TABLE `restaurant_detail` (\n",
        "    `id` VARCHAR(256),\n",
        "    `restaurant_name` VARCHAR(256),\n",
        "    `category` VARCHAR(256),\n",
        "    `esimated_cooking_time` FLOAT,\n",
        "    `latitude` FLOAT,\n",
        "    `longitude` FLOAT,\n",
        "    )\n",
        "    PARTITIONED BY (`dt` STRING)\n",
        "    STORED AS PARQUET\n",
        "    LOCATION '/content/restaurant_detail.parquet'\n",
        "    \"\"\"\n",
        "\n",
        "spark.sql(QUERY_CREATE_EXT_ORDER)\n",
        "spark.sql(QUERY_CREATE_EXT_REST)"
      ],
      "metadata": {
        "id": "z6j5DTHYEYHB"
      },
      "execution_count": null,
      "outputs": []
    },
    {
      "cell_type": "code",
      "source": [
        "spark.sql(\"show tables\").show()"
      ],
      "metadata": {
        "id": "1kVuPNpCLF95"
      },
      "execution_count": null,
      "outputs": []
    },
    {
      "cell_type": "markdown",
      "source": [
        "# Craete additional tables"
      ],
      "metadata": {
        "id": "NGnD-BSCRrka"
      }
    },
    {
      "cell_type": "code",
      "source": [
        "order_spark_df_new = order_spark_df.withColumn(\"discount_no_null\", order_spark_df.na.fill({'discount': 0}))\n",
        "order_spark_df_new.show()"
      ],
      "metadata": {
        "id": "09yb40PRLg8z"
      },
      "execution_count": null,
      "outputs": []
    },
    {
      "cell_type": "code",
      "source": [
        "restaurant_spark_df_new = restaurant_spark_df.withColumn(\"cooking_bin\", when(restaurant_spark_df.esimated_cooking_time.between(10,40), 1)\n",
        "                                                                        .when(restaurant_spark_df.esimated_cooking_time.between(10,40), 2)\n",
        "                                                                        .when(restaurant_spark_df.esimated_cooking_time.between(10,40), 3)\n",
        "                                                                        .otherwise(4))\n",
        "restaurant_spark_df.show()"
      ],
      "metadata": {
        "id": "9h6EP6cpLs_Z"
      },
      "execution_count": null,
      "outputs": []
    },
    {
      "cell_type": "code",
      "source": [
        "order_spark_df_new.write.partitionBy(\"dt\")\\\n",
        "    .format(\"parquet\")\\\n",
        "    .save(\"/content/order_detail_new.parquet\")\n",
        "\n",
        "restaurant_spark_df_new.write.partitionBy(\"dt\")\\\n",
        "    .format(\"parquet\")\\\n",
        "    .save(\"/content/restaurant_detail_new.parquet\")"
      ],
      "metadata": {
        "id": "V22Er6xpNmJz"
      },
      "execution_count": null,
      "outputs": []
    },
    {
      "cell_type": "code",
      "source": [
        "QUERY_CREATE_EXT_ORDER_NEW = f\"\"\" CREATE EXTERNAL TABLE `__order_detail_new__` (\n",
        "    `order_created_timestamp` TIMESTAMP,\n",
        "    `status` VARCHAR(256),\n",
        "    `price` INTEGER,\n",
        "    `discount` FLOAT,\n",
        "    `id` VARCHAR(256),\n",
        "    `driver_id` VARCHAR(256),\n",
        "    `user_id` VARCHAR(256),\n",
        "    `restaurant_id` VARCHAR(256),\n",
        "    `discount_no_null` FLOAT\n",
        "    )\n",
        "    PARTITIONED BY (`dt` STRING)\n",
        "    STORED AS PARQUET\n",
        "    LOCATION '/content/order_detail_new.parquet'\n",
        "    \"\"\"\n",
        "\n",
        "QUERY_CREATE_EXT_REST_NEW = f\"\"\" CREATE EXTERNAL TABLE `__restaurant_detail_new__` (\n",
        "    `id` VARCHAR(256),\n",
        "    `restaurant_name` VARCHAR(256),\n",
        "    `category` VARCHAR(256),\n",
        "    `esimated_cooking_time` FLOAT,\n",
        "    `latitude` FLOAT,\n",
        "    `longitude` FLOAT,\n",
        "    `cooking_bin` INTEGER\n",
        "    )\n",
        "    PARTITIONED BY (`dt` STRING)\n",
        "    STORED AS PARQUET\n",
        "    LOCATION '/content/restaurant_detail_new.parquet'\n",
        "    \"\"\"\n",
        "\n",
        "spark.sql(QUERY_CREATE_EXT_ORDER_NEW)\n",
        "spark.sql(QUERY_CREATE_EXT_REST_NEW)"
      ],
      "metadata": {
        "id": "QQEoKbkMNjZr"
      },
      "execution_count": null,
      "outputs": []
    },
    {
      "cell_type": "code",
      "source": [],
      "metadata": {
        "id": "3OHcwGrSM-KK"
      },
      "execution_count": null,
      "outputs": []
    },
    {
      "cell_type": "markdown",
      "source": [
        "# SQL requirement\n",
        "\n",
        "\n",
        "1. Get the average discount for each category\n",
        "2. Row count per each cooking_bin"
      ],
      "metadata": {
        "id": "_CxXUik6M_h9"
      }
    },
    {
      "cell_type": "markdown",
      "source": [
        "## SQL Task 1"
      ],
      "metadata": {
        "id": "6NuUQ4OtNOza"
      }
    },
    {
      "cell_type": "code",
      "source": [
        "QUERY_AVG_DISCOUNT = f\"\"\"\n",
        "    SELECT Category, AVG(DISCOUNT) as Average_Discount\n",
        "    FROM `__order_detail_new__`\n",
        "    GROUP BY Category\n",
        "\"\"\"\n",
        "\n",
        "avg_discount = spark.sql(QUERY_AVG_DISCOUNT)\n",
        "\n",
        "avg_discount.show()"
      ],
      "metadata": {
        "id": "GCSKR5RENM0Q"
      },
      "execution_count": null,
      "outputs": []
    },
    {
      "cell_type": "code",
      "source": [
        "avg_discount.write.option(\"header\",true).csv(\"/content/discount.csv\")"
      ],
      "metadata": {
        "id": "2nAEvovTPFqF"
      },
      "execution_count": null,
      "outputs": []
    },
    {
      "cell_type": "markdown",
      "source": [
        "## SQL Task 2"
      ],
      "metadata": {
        "id": "-CCLzVXOPmHH"
      }
    },
    {
      "cell_type": "code",
      "source": [
        "QUERY_COUNT_BIN = f\"\"\"\n",
        "    SELECT cooking_bin, COUNT(1)\n",
        "    FROM `__restaurant_detail_new__`\n",
        "    GROUP BY cooking_bin\n",
        "\"\"\"\n",
        "\n",
        "row_count = spark.sql(QUERY_COUNT_BIN)\n",
        "\n",
        "row_count.show()"
      ],
      "metadata": {
        "id": "tQudlYfAPluL"
      },
      "execution_count": null,
      "outputs": []
    },
    {
      "cell_type": "code",
      "source": [
        "row_count.write.option(\"header\",true).csv(\"/content/cooking.csv\")"
      ],
      "metadata": {
        "id": "th8TS3RFP4NM"
      },
      "execution_count": null,
      "outputs": []
    }
  ]
}